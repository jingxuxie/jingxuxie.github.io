{
 "cells": [
  {
   "cell_type": "markdown",
   "metadata": {},
   "source": [
    "# Leaflet cluster map of talk locations\n",
    "\n",
    "Run this from the _talks/ directory, which contains .md files of all your talks. This scrapes the location YAML field from each .md file, geolocates it with geopy/Nominatim, and uses the getorg library to output data, HTML, and Javascript for a standalone cluster map."
   ]
  },
  {
   "cell_type": "code",
   "execution_count": 1,
   "metadata": {
    "collapsed": false
   },
   "outputs": [
    {
     "name": "stdout",
     "output_type": "stream",
     "text": [
      "Requirement already satisfied: getorg in d:\\python\\envs\\redpitaya36\\lib\\site-packages (0.3.1)\n",
      "Requirement already satisfied: geopy in d:\\python\\envs\\redpitaya36\\lib\\site-packages (from getorg) (2.2.0)\n",
      "Requirement already satisfied: pygithub in d:\\python\\envs\\redpitaya36\\lib\\site-packages (from getorg) (1.56)\n",
      "Requirement already satisfied: retrying in d:\\python\\envs\\redpitaya36\\lib\\site-packages (from getorg) (1.3.4)\n",
      "Requirement already satisfied: geographiclib<2,>=1.49 in d:\\python\\envs\\redpitaya36\\lib\\site-packages (from geopy->getorg) (1.52)\n",
      "Requirement already satisfied: deprecated in d:\\python\\envs\\redpitaya36\\lib\\site-packages (from pygithub->getorg) (1.2.14)\n",
      "Requirement already satisfied: pynacl>=1.4.0 in d:\\python\\envs\\redpitaya36\\lib\\site-packages (from pygithub->getorg) (1.5.0)\n",
      "Requirement already satisfied: requests>=2.14.0 in d:\\python\\envs\\redpitaya36\\lib\\site-packages (from pygithub->getorg) (2.27.1)\n",
      "Requirement already satisfied: pyjwt>=2.0 in d:\\python\\envs\\redpitaya36\\lib\\site-packages (from pygithub->getorg) (2.4.0)\n",
      "Requirement already satisfied: cffi>=1.4.1 in d:\\python\\envs\\redpitaya36\\lib\\site-packages (from pynacl>=1.4.0->pygithub->getorg) (1.15.1)\n",
      "Requirement already satisfied: pycparser in d:\\python\\envs\\redpitaya36\\lib\\site-packages (from cffi>=1.4.1->pynacl>=1.4.0->pygithub->getorg) (2.21)\n",
      "Requirement already satisfied: urllib3<1.27,>=1.21.1 in d:\\python\\envs\\redpitaya36\\lib\\site-packages (from requests>=2.14.0->pygithub->getorg) (1.26.16)\n",
      "Requirement already satisfied: charset-normalizer~=2.0.0 in d:\\python\\envs\\redpitaya36\\lib\\site-packages (from requests>=2.14.0->pygithub->getorg) (2.0.12)\n",
      "Requirement already satisfied: certifi>=2017.4.17 in d:\\python\\envs\\redpitaya36\\lib\\site-packages (from requests>=2.14.0->pygithub->getorg) (2021.5.30)\n",
      "Requirement already satisfied: idna<4,>=2.5 in d:\\python\\envs\\redpitaya36\\lib\\site-packages (from requests>=2.14.0->pygithub->getorg) (3.4)\n",
      "Requirement already satisfied: wrapt<2,>=1.10 in d:\\python\\envs\\redpitaya36\\lib\\site-packages (from deprecated->pygithub->getorg) (1.15.0)\n",
      "Requirement already satisfied: six>=1.7.0 in d:\\python\\envs\\redpitaya36\\lib\\site-packages (from retrying->getorg) (1.16.0)\n",
      "Iywidgets and ipyleaflet support disabled. You must be in a Jupyter notebook to use this feature.\n",
      "Error raised:\n"
     ]
    },
    {
     "name": "stderr",
     "output_type": "stream",
     "text": [
      "d:\\python\\envs\\redpitaya36\\lib\\site-packages\\jwt\\utils.py:7: CryptographyDeprecationWarning: Python 3.6 is no longer supported by the Python core team. Therefore, support for it is deprecated in cryptography and will be removed in a future release.\n",
      "  from cryptography.hazmat.primitives.asymmetric.ec import EllipticCurve\n"
     ]
    },
    {
     "name": "stdout",
     "output_type": "stream",
     "text": [
      "No module named 'ipywidgets'\n",
      "Check that you have enabled ipyleaflet in Jupyter with:\n",
      "    jupyter nbextension enable --py ipyleaflet\n"
     ]
    }
   ],
   "source": [
    "!pip install getorg --upgrade\n",
    "import glob\n",
    "import getorg\n",
    "from geopy import Nominatim"
   ]
  },
  {
   "cell_type": "code",
   "execution_count": 2,
   "metadata": {
    "collapsed": false
   },
   "outputs": [],
   "source": [
    "g = glob.glob(\"*.md\")"
   ]
  },
  {
   "cell_type": "code",
   "execution_count": 4,
   "metadata": {
    "collapsed": true
   },
   "outputs": [],
   "source": [
    "geocoder = Nominatim(user_agent = 'test')\n",
    "location_dict = {}\n",
    "location = \"\"\n",
    "permalink = \"\"\n",
    "title = \"\""
   ]
  },
  {
   "cell_type": "code",
   "execution_count": 5,
   "metadata": {
    "collapsed": false
   },
   "outputs": [
    {
     "name": "stdout",
     "output_type": "stream",
     "text": [
      "Berkeley, CA \n",
      " Berkeley, Alameda County, California, United States\n",
      "Las Vegas, NV \n",
      " Las Vegas, Clark County, Nevada, United States\n",
      "Berkeley CA, USA \n",
      " Berkeley, Alameda County, California, United States\n",
      "Cambridge, UK \n",
      " Cambridge, Cambridgeshire, Cambridgeshire and Peterborough, England, United Kingdom\n"
     ]
    }
   ],
   "source": [
    "\n",
    "for file in g:\n",
    "    with open(file, 'r') as f:\n",
    "        lines = f.read()\n",
    "        if lines.find('location: \"') > 1:\n",
    "            loc_start = lines.find('location: \"') + 11\n",
    "            lines_trim = lines[loc_start:]\n",
    "            loc_end = lines_trim.find('\"')\n",
    "            location = lines_trim[:loc_end]\n",
    "                            \n",
    "           \n",
    "        location_dict[location] = geocoder.geocode(location)\n",
    "        print(location, \"\\n\", location_dict[location])\n"
   ]
  },
  {
   "cell_type": "code",
   "execution_count": 6,
   "metadata": {
    "collapsed": false
   },
   "outputs": [
    {
     "data": {
      "text/plain": [
       "'Written map to ../talkmap/'"
      ]
     },
     "execution_count": 6,
     "metadata": {},
     "output_type": "execute_result"
    }
   ],
   "source": [
    "m = getorg.orgmap.create_map_obj()\n",
    "getorg.orgmap.output_html_cluster_map(location_dict, folder_name=\"../talkmap\", hashed_usernames=False)"
   ]
  },
  {
   "cell_type": "code",
   "execution_count": null,
   "metadata": {
    "collapsed": true
   },
   "outputs": [],
   "source": []
  }
 ],
 "metadata": {
  "anaconda-cloud": {},
  "kernelspec": {
   "display_name": "Python 3.6.8",
   "language": "python",
   "name": "python3"
  },
  "language_info": {
   "codemirror_mode": {
    "name": "ipython",
    "version": 3
   },
   "file_extension": ".py",
   "mimetype": "text/x-python",
   "name": "python",
   "nbconvert_exporter": "python",
   "pygments_lexer": "ipython3",
   "version": "3.6.8"
  },
  "vscode": {
   "interpreter": {
    "hash": "3626be23cf49ad49b27012c5d39412a22548a8f1b063fcad50575126bdac093b"
   }
  }
 },
 "nbformat": 4,
 "nbformat_minor": 0
}
